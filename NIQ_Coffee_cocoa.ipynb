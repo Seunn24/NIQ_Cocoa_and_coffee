{
 "cells": [
  {
   "cell_type": "code",
   "execution_count": 7,
   "id": "2e6cafe7",
   "metadata": {},
   "outputs": [],
   "source": [
    "import pandas as pd\n",
    "import numpy as np\n",
    "df = pd.read_excel('NIQBrandbank Data - UEA Project Work (EUDR) - 2025.xlsx')\n"
   ]
  },
  {
   "cell_type": "code",
   "execution_count": 8,
   "id": "a4a22e88",
   "metadata": {},
   "outputs": [],
   "source": [
    "#Extracting the needed columns\n",
    "columns_to_extract = [\n",
    "    \"GTIN\", \"Target Market(s)\", \"Description\", \"Subscriber Code\",\n",
    "    \"Product Group 1\", \"Product Group 2\", \"Product Group 3\",\n",
    "    \"Brand\", \"Standardised Brand\", \"Features\", \"Product Marketing\",\n",
    "    \"Ingredients\"\n",
    "]"
   ]
  },
  {
   "cell_type": "code",
   "execution_count": 9,
   "id": "f86446b0",
   "metadata": {},
   "outputs": [],
   "source": [
    "df_selected = df[columns_to_extract].copy()"
   ]
  },
  {
   "cell_type": "code",
   "execution_count": 10,
   "id": "c0a6bab8",
   "metadata": {},
   "outputs": [],
   "source": [
    "# Preparing a lower-case version of ingredients for keyword matching\n",
    "df_selected['ingredients_clean'] = (\n",
    "    df_selected['Ingredients']\n",
    "    .astype(str)\n",
    "    .str.lower()\n",
    ")\n"
   ]
  },
  {
   "cell_type": "code",
   "execution_count": 11,
   "id": "7672fb15",
   "metadata": {},
   "outputs": [],
   "source": [
    "# Defining coffee & cocoa keyword with HS code mapping\n",
    "commodity_mapping = {\n",
    "    # Coffee\n",
    "    \"instant coffee\":      \"2101 12\",  \n",
    "    \"coffee extract\":      \"2101 12\",\n",
    "    \"coffee\":              \"0901\",     \n",
    "\n",
    "    # Cocoa\n",
    "    \"cocoa beans\":         \"1801 00\",\n",
    "    \"cocoa paste\":         \"1803 00\",\n",
    "    \"cocoa mass\":          \"1803 00\",\n",
    "    \"cocoa butter\":        \"1804 00\",\n",
    "    \"cocoa powder\":        \"1805 10\",\n",
    "    \"chocolate\":           \"1806\",     \n",
    "}"
   ]
  },
  {
   "cell_type": "code",
   "execution_count": 12,
   "id": "8e60f0c1",
   "metadata": {},
   "outputs": [],
   "source": [
    "# Function to assign the first matching code\n",
    "def assign_commodity_code(ingredients):\n",
    "    for keyword, code in commodity_mapping.items():\n",
    "        if keyword in ingredients:\n",
    "            return code\n",
    "    return None\n"
   ]
  },
  {
   "cell_type": "code",
   "execution_count": 13,
   "id": "cd864e86",
   "metadata": {},
   "outputs": [],
   "source": [
    "# Applying the mapping\n",
    "df_selected['commodity_code'] = (\n",
    "    df_selected['ingredients_clean']\n",
    "    .apply(assign_commodity_code)\n",
    ")"
   ]
  },
  {
   "cell_type": "code",
   "execution_count": 14,
   "id": "4bd1c237",
   "metadata": {},
   "outputs": [],
   "source": [
    "# Build the final output\n",
    "final_columns = columns_to_extract + ['commodity_code']\n",
    "df_final = df_selected[final_columns]\n",
    "\n",
    "# Saving to a new Excel file\n",
    "df_final.to_excel('NIQ_coffee_cocoa.xlsx', index=False)"
   ]
  },
  {
   "cell_type": "code",
   "execution_count": null,
   "id": "241bf6d9",
   "metadata": {},
   "outputs": [],
   "source": []
  }
 ],
 "metadata": {
  "kernelspec": {
   "display_name": "Python 3 (ipykernel)",
   "language": "python",
   "name": "python3"
  },
  "language_info": {
   "codemirror_mode": {
    "name": "ipython",
    "version": 3
   },
   "file_extension": ".py",
   "mimetype": "text/x-python",
   "name": "python",
   "nbconvert_exporter": "python",
   "pygments_lexer": "ipython3",
   "version": "3.11.7"
  }
 },
 "nbformat": 4,
 "nbformat_minor": 5
}
